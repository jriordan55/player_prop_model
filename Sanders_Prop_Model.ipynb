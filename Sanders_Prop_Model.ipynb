{
  "nbformat": 4,
  "nbformat_minor": 0,
  "metadata": {
    "colab": {
      "provenance": []
    },
    "kernelspec": {
      "name": "python3",
      "display_name": "Python 3"
    },
    "language_info": {
      "name": "python"
    }
  },
  "cells": [
    {
      "cell_type": "code",
      "execution_count": 2,
      "metadata": {
        "id": "DTEEX-5qs0Ui"
      },
      "outputs": [],
      "source": [
        "%%capture\n",
        "%pip install pymc3 nfl-data-py"
      ]
    },
    {
      "cell_type": "code",
      "source": [
        "import nfl_data_py as nfl\n",
        "import numpy as np\n",
        "from matplotlib import pyplot as plt\n",
        "from scipy import stats as st\n",
        "import arviz as az\n",
        "import seaborn as sns\n",
        "import warnings; warnings.simplefilter('ignore')\n",
        "\n",
        "random = np.random.default_rng(42)\n",
        "\n",
        "plt.style.use('ggplot')"
      ],
      "metadata": {
        "id": "pVumGlOUwZ1v"
      },
      "execution_count": 4,
      "outputs": []
    },
    {
      "cell_type": "code",
      "source": [
        "sanders_carries_ou = 13.5\n",
        "line = -108"
      ],
      "metadata": {
        "id": "7veaRHPtzZA8"
      },
      "execution_count": 5,
      "outputs": []
    },
    {
      "cell_type": "code",
      "source": [
        "def implied_probability(money_line, round_n=2):\n",
        "  if money_line < 0:\n",
        "    return round(money_line / (money_line - 100), round_n)\n",
        "  else:\n",
        "    return round(1 - (money_line / (money_line + 100)), round_n)\n",
        "\n",
        "ip_x = implied_probability(line)  \n",
        "print(f'Implied probability of over {sanders_carries_ou} carries for M. Sanders in the Super Bowl is: ', ip_x)"
      ],
      "metadata": {
        "colab": {
          "base_uri": "https://localhost:8080/"
        },
        "id": "1xMfV5lB0OJM",
        "outputId": "04e6d30d-6652-4d1f-cf46-873c1a72dff6"
      },
      "execution_count": 6,
      "outputs": [
        {
          "output_type": "stream",
          "name": "stdout",
          "text": [
            "Implied probability of over 13.5 carries for M. Sanders in the Super Bowl is:  0.52\n"
          ]
        }
      ]
    },
    {
      "cell_type": "code",
      "source": [
        "nfl.see_weekly_cols()"
      ],
      "metadata": {
        "colab": {
          "base_uri": "https://localhost:8080/"
        },
        "id": "aCDUX4y-00qE",
        "outputId": "b0fef1e7-6593-4c95-bec0-53d58d33cad5"
      },
      "execution_count": 7,
      "outputs": [
        {
          "output_type": "execute_result",
          "data": {
            "text/plain": [
              "Index(['player_id', 'player_name', 'player_display_name', 'position',\n",
              "       'position_group', 'headshot_url', 'recent_team', 'season', 'week',\n",
              "       'season_type', 'completions', 'attempts', 'passing_yards',\n",
              "       'passing_tds', 'interceptions', 'sacks', 'sack_yards', 'sack_fumbles',\n",
              "       'sack_fumbles_lost', 'passing_air_yards', 'passing_yards_after_catch',\n",
              "       'passing_first_downs', 'passing_epa', 'passing_2pt_conversions', 'pacr',\n",
              "       'dakota', 'carries', 'rushing_yards', 'rushing_tds', 'rushing_fumbles',\n",
              "       'rushing_fumbles_lost', 'rushing_first_downs', 'rushing_epa',\n",
              "       'rushing_2pt_conversions', 'receptions', 'targets', 'receiving_yards',\n",
              "       'receiving_tds', 'receiving_fumbles', 'receiving_fumbles_lost',\n",
              "       'receiving_air_yards', 'receiving_yards_after_catch',\n",
              "       'receiving_first_downs', 'receiving_epa', 'receiving_2pt_conversions',\n",
              "       'racr', 'target_share', 'air_yards_share', 'wopr', 'special_teams_tds',\n",
              "       'fantasy_points', 'fantasy_points_ppr'],\n",
              "      dtype='object')"
            ]
          },
          "metadata": {},
          "execution_count": 7
        }
      ]
    },
    {
      "cell_type": "code",
      "source": [
        "weekly_data = nfl.import_weekly_data(years=range(2019, 2023), columns=['player_name', 'carries'])\n",
        "sanders_carries = weekly_data.loc[weekly_data['player_name'] == 'M.Sanders'].carries.values\n",
        "\n",
        "sanders_carries"
      ],
      "metadata": {
        "colab": {
          "base_uri": "https://localhost:8080/"
        },
        "id": "V6DVW0lc0hbT",
        "outputId": "db091a4e-b78a-463c-bd74-c1bf34e1ef18"
      },
      "execution_count": 8,
      "outputs": [
        {
          "output_type": "stream",
          "name": "stdout",
          "text": [
            "Downcasting floats.\n"
          ]
        },
        {
          "output_type": "execute_result",
          "data": {
            "text/plain": [
              "array([11, 10, 13, 11,  9,  3,  6,  3, 10, 11, 12, 17, 15, 19, 20,  9, 14,\n",
              "       20, 18, 13, 11,  9, 15, 16,  6, 10, 14, 17, 15, 15, 13,  2,  7, 11,\n",
              "        9,  6, 16,  9, 24, 18,  7,  7, 13, 17, 15, 27, 15, 18,  9, 17, 12,\n",
              "       13, 21, 10, 17, 11, 21, 12, 11, 17, 11], dtype=int32)"
            ]
          },
          "metadata": {},
          "execution_count": 8
        }
      ]
    },
    {
      "cell_type": "code",
      "source": [
        "plt.hist(sanders_carries, color=\"green\", bins=20);"
      ],
      "metadata": {
        "colab": {
          "base_uri": "https://localhost:8080/",
          "height": 265
        },
        "id": "tM4tX-140v3F",
        "outputId": "6fd7160d-fb28-4f13-89de-362e871e4b8a"
      },
      "execution_count": 11,
      "outputs": [
        {
          "output_type": "display_data",
          "data": {
            "text/plain": [
              "<Figure size 432x288 with 1 Axes>"
            ],
            "image/png": "[encoded data removed]"
          },
          "metadata": {}
        }
      ]
    },
    {
      "cell_type": "code",
      "source": [
        "print('Sample size: ', len(sanders_carries))\n",
        "print('Mean: ', sanders_carries.mean())\n",
        "print('Median: ', np.median(sanders_carries))\n",
        "print('Mode: ', st.mode(sanders_carries)[0][0])\n",
        "print('Standard deviation: ', sanders_carries.std())"
      ],
      "metadata": {
        "colab": {
          "base_uri": "https://localhost:8080/"
        },
        "id": "4qkTEjZx1sKM",
        "outputId": "be1b9554-e034-402b-e533-aa85f5832dbb"
      },
      "execution_count": 10,
      "outputs": [
        {
          "output_type": "stream",
          "name": "stdout",
          "text": [
            "Sample size:  61\n",
            "Mean:  12.918032786885245\n",
            "Median:  13.0\n",
            "Mode:  11\n",
            "Standard deviation:  5.018964304261349\n"
          ]
        }
      ]
    },
    {
      "cell_type": "code",
      "source": [
        "xs = np.array([])\n",
        "n_simulations = 10_000\n",
        "\n",
        "for _ in range(n_simulations):\n",
        "    boot_x = np.random.choice(sanders_carries, size=len(sanders_carries), replace=True).mean()\n",
        "    xs =  np.append(xs, boot_x)"
      ],
      "metadata": {
        "id": "j5VuKWJF2GAy"
      },
      "execution_count": null,
      "outputs": []
    },
    {
      "cell_type": "code",
      "source": [
        "xs"
      ],
      "metadata": {
        "colab": {
          "base_uri": "https://localhost:8080/"
        },
        "id": "Mufhv4hZ2b-b",
        "outputId": "98c86602-5614-41ae-fb0d-0106ba009e9f"
      },
      "execution_count": null,
      "outputs": [
        {
          "output_type": "execute_result",
          "data": {
            "text/plain": [
              "array([12.60655738, 12.57377049, 13.01639344, ..., 12.55737705,\n",
              "       13.03278689, 12.62295082])"
            ]
          },
          "metadata": {},
          "execution_count": 12
        }
      ]
    },
    {
      "cell_type": "code",
      "source": [
        "sns.distplot(xs, color='green');\n",
        "plt.gca().vlines(x=sanders_carries_ou, ymin=0, ymax=0.7, color='black');\n",
        "plt.gcf().legend(['Bootstrapped means', 'Sanders Carries O/U Line']);"
      ],
      "metadata": {
        "colab": {
          "base_uri": "https://localhost:8080/",
          "height": 295
        },
        "id": "FwB7iHfv2vuS",
        "outputId": "9c3fe873-d83a-4217-aa8b-c5c60c05d5b9"
      },
      "execution_count": null,
      "outputs": [
        {
          "output_type": "display_data",
          "data": {
            "text/plain": [
              "<Figure size 432x288 with 1 Axes>"
            ],
            "image/png": "[encoded data removed]"
          },
          "metadata": {}
        }
      ]
    },
    {
      "cell_type": "code",
      "source": [
        "lower_bound, upper_bound = np.quantile(xs, 0.05), np.quantile(xs, 0.95)\n",
        "lower_bound, upper_bound"
      ],
      "metadata": {
        "colab": {
          "base_uri": "https://localhost:8080/"
        },
        "id": "0FpT4YUm3DM3",
        "outputId": "ce9f25eb-8a91-496d-86b0-59ebb57df162"
      },
      "execution_count": null,
      "outputs": [
        {
          "output_type": "execute_result",
          "data": {
            "text/plain": [
              "(11.852459016393443, 13.98360655737705)"
            ]
          },
          "metadata": {},
          "execution_count": 21
        }
      ]
    },
    {
      "cell_type": "code",
      "source": [
        "poisson_arr = np.random.poisson(lam=sanders_carries.mean(), size=n_simulations)\n",
        "\n",
        "calculated_probability = sum(poisson_arr > sanders_carries_ou) / n_simulations\n",
        "print(calculated_probability)\n",
        "if calculated_probability > ip_x:\n",
        "  print('Take the over')\n",
        "else:\n",
        "  print('Take the under')"
      ],
      "metadata": {
        "colab": {
          "base_uri": "https://localhost:8080/"
        },
        "id": "dpfex3K55pE6",
        "outputId": "0cf94203-3904-4008-b57f-43e16ddd02c7"
      },
      "execution_count": null,
      "outputs": [
        {
          "output_type": "stream",
          "name": "stdout",
          "text": [
            "0.4158\n",
            "Take the under\n"
          ]
        }
      ]
    }
  ]
}